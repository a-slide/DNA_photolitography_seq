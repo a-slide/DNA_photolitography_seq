{
 "cells": [
  {
   "cell_type": "markdown",
   "metadata": {},
   "source": [
    "# "
   ]
  },
  {
   "cell_type": "code",
   "execution_count": 1,
   "metadata": {
    "ExecuteTime": {
     "end_time": "2019-02-19T16:22:36.841594Z",
     "start_time": "2019-02-19T16:22:34.698817Z"
    },
    "init_cell": true
   },
   "outputs": [],
   "source": [
    "from datetime import date\n",
    "from pycltools.pycltools import *\n",
    "from collections import Counter\n",
    "from pprint import pprint as pp \n",
    "from matplotlib import pyplot as pl\n",
    "import pandas as pd\n",
    "import numpy as np\n",
    "from random import choice, sample\n",
    "import pandas as pd\n",
    "from tqdm import tqdm, trange\n",
    "import sys\n",
    "import multiprocessing as mp\n",
    "\n",
    "# Pandas tweaking\n",
    "pd.options.display.max_colwidth = 100\n",
    "pd.options.display.max_rows = 20\n",
    "\n",
    "%matplotlib inline\n",
    "%config InlineBackend.figure_format = 'svg'\n",
    "pl.rcParams['figure.figsize'] = 30, 5\n",
    "pl.rcParams['font.family'] = 'sans-serif'\n",
    "pl.rcParams['font.sans-serif'] = ['DejaVu Sans']\n",
    "pl.style.use('ggplot')"
   ]
  },
  {
   "cell_type": "code",
   "execution_count": 2,
   "metadata": {
    "ExecuteTime": {
     "end_time": "2019-02-19T16:22:36.852695Z",
     "start_time": "2019-02-19T16:22:36.843864Z"
    },
    "init_cell": true
   },
   "outputs": [
    {
     "data": {
      "text/html": [
       "<p style=\"font-size:150%;line-height:15px;\"><b>Adrien Leger / EMBL EBI</b></p>"
      ],
      "text/plain": [
       "<IPython.core.display.HTML object>"
      ]
     },
     "metadata": {},
     "output_type": "display_data"
    },
    {
     "data": {
      "text/html": [
       "<p style=\"font-size:125%;line-height:15px;\"><i><b>Starting date : 2017-12-12</b></i></p>"
      ],
      "text/plain": [
       "<IPython.core.display.HTML object>"
      ]
     },
     "metadata": {},
     "output_type": "display_data"
    },
    {
     "data": {
      "text/html": [
       "<p style=\"font-size:125%;line-height:15px;\"><i><b>Last modification date : 2019-2-19</b></i></p>"
      ],
      "text/plain": [
       "<IPython.core.display.HTML object>"
      ]
     },
     "metadata": {},
     "output_type": "display_data"
    }
   ],
   "source": [
    "jprint(\"Adrien Leger / EMBL EBI\", bold=True, size=150)\n",
    "jprint(\"Starting date : 2017-12-12\", bold=True, italic=True, size=125)\n",
    "jprint(\"Last modification date : {}-{}-{}\".format(date.today().year, date.today().month, date.today().day), bold=True, italic=True, size=125)"
   ]
  },
  {
   "cell_type": "markdown",
   "metadata": {},
   "source": [
    "# Counting sequences containing all the possible kmers"
   ]
  },
  {
   "cell_type": "code",
   "execution_count": 7,
   "metadata": {
    "ExecuteTime": {
     "end_time": "2017-12-12T15:57:35.705617Z",
     "start_time": "2017-12-12T15:17:27.000071Z"
    }
   },
   "outputs": [
    {
     "name": "stdout",
     "output_type": "stream",
     "text": [
      "Kmer length 4 = 625 possible kmers\n",
      "Kmer length 5 = 3125 possible kmers\n",
      "Kmer length 6 = 15625 possible kmers\n",
      "Kmer length 7 = 78125 possible kmers\n",
      "Kmer length 8 = 390625 possible kmers\n",
      "Kmer length 9 = 1953125 possible kmers\n"
     ]
    },
    {
     "data": {
      "text/html": [
       "<div>\n",
       "<style scoped>\n",
       "    .dataframe tbody tr th:only-of-type {\n",
       "        vertical-align: middle;\n",
       "    }\n",
       "\n",
       "    .dataframe tbody tr th {\n",
       "        vertical-align: top;\n",
       "    }\n",
       "\n",
       "    .dataframe thead th {\n",
       "        text-align: right;\n",
       "    }\n",
       "</style>\n",
       "<table border=\"1\" class=\"dataframe\">\n",
       "  <thead>\n",
       "    <tr style=\"text-align: right;\">\n",
       "      <th></th>\n",
       "      <th>4</th>\n",
       "      <th>5</th>\n",
       "      <th>6</th>\n",
       "      <th>7</th>\n",
       "      <th>8</th>\n",
       "      <th>9</th>\n",
       "    </tr>\n",
       "  </thead>\n",
       "  <tbody>\n",
       "    <tr>\n",
       "      <th>0</th>\n",
       "      <td>4865</td>\n",
       "      <td>26879</td>\n",
       "      <td>171393</td>\n",
       "      <td>1058172</td>\n",
       "      <td>4614442</td>\n",
       "      <td>27253070</td>\n",
       "    </tr>\n",
       "    <tr>\n",
       "      <th>1</th>\n",
       "      <td>4318</td>\n",
       "      <td>23755</td>\n",
       "      <td>153554</td>\n",
       "      <td>1086588</td>\n",
       "      <td>5124229</td>\n",
       "      <td>28023991</td>\n",
       "    </tr>\n",
       "    <tr>\n",
       "      <th>2</th>\n",
       "      <td>4432</td>\n",
       "      <td>19953</td>\n",
       "      <td>146538</td>\n",
       "      <td>1027405</td>\n",
       "      <td>4943330</td>\n",
       "      <td>31474718</td>\n",
       "    </tr>\n",
       "    <tr>\n",
       "      <th>3</th>\n",
       "      <td>3355</td>\n",
       "      <td>29144</td>\n",
       "      <td>135179</td>\n",
       "      <td>1003148</td>\n",
       "      <td>4973237</td>\n",
       "      <td>31507228</td>\n",
       "    </tr>\n",
       "    <tr>\n",
       "      <th>4</th>\n",
       "      <td>5287</td>\n",
       "      <td>27005</td>\n",
       "      <td>139783</td>\n",
       "      <td>915360</td>\n",
       "      <td>4863433</td>\n",
       "      <td>28243997</td>\n",
       "    </tr>\n",
       "    <tr>\n",
       "      <th>5</th>\n",
       "      <td>4387</td>\n",
       "      <td>23917</td>\n",
       "      <td>171259</td>\n",
       "      <td>905759</td>\n",
       "      <td>5753620</td>\n",
       "      <td>28289453</td>\n",
       "    </tr>\n",
       "    <tr>\n",
       "      <th>6</th>\n",
       "      <td>4169</td>\n",
       "      <td>21740</td>\n",
       "      <td>142291</td>\n",
       "      <td>914921</td>\n",
       "      <td>5299859</td>\n",
       "      <td>29136943</td>\n",
       "    </tr>\n",
       "    <tr>\n",
       "      <th>7</th>\n",
       "      <td>7683</td>\n",
       "      <td>26965</td>\n",
       "      <td>173777</td>\n",
       "      <td>798812</td>\n",
       "      <td>5039680</td>\n",
       "      <td>30209802</td>\n",
       "    </tr>\n",
       "    <tr>\n",
       "      <th>8</th>\n",
       "      <td>4020</td>\n",
       "      <td>21227</td>\n",
       "      <td>158554</td>\n",
       "      <td>955652</td>\n",
       "      <td>4762138</td>\n",
       "      <td>28538511</td>\n",
       "    </tr>\n",
       "    <tr>\n",
       "      <th>9</th>\n",
       "      <td>3881</td>\n",
       "      <td>27365</td>\n",
       "      <td>169516</td>\n",
       "      <td>754134</td>\n",
       "      <td>5539101</td>\n",
       "      <td>29496549</td>\n",
       "    </tr>\n",
       "    <tr>\n",
       "      <th>...</th>\n",
       "      <td>...</td>\n",
       "      <td>...</td>\n",
       "      <td>...</td>\n",
       "      <td>...</td>\n",
       "      <td>...</td>\n",
       "      <td>...</td>\n",
       "    </tr>\n",
       "    <tr>\n",
       "      <th>40</th>\n",
       "      <td>4256</td>\n",
       "      <td>24804</td>\n",
       "      <td>147763</td>\n",
       "      <td>921135</td>\n",
       "      <td>5893709</td>\n",
       "      <td>27700944</td>\n",
       "    </tr>\n",
       "    <tr>\n",
       "      <th>41</th>\n",
       "      <td>3405</td>\n",
       "      <td>25826</td>\n",
       "      <td>165849</td>\n",
       "      <td>979461</td>\n",
       "      <td>5238927</td>\n",
       "      <td>30313323</td>\n",
       "    </tr>\n",
       "    <tr>\n",
       "      <th>42</th>\n",
       "      <td>4110</td>\n",
       "      <td>21893</td>\n",
       "      <td>145633</td>\n",
       "      <td>1157687</td>\n",
       "      <td>5017672</td>\n",
       "      <td>26244979</td>\n",
       "    </tr>\n",
       "    <tr>\n",
       "      <th>43</th>\n",
       "      <td>4175</td>\n",
       "      <td>23968</td>\n",
       "      <td>166583</td>\n",
       "      <td>922665</td>\n",
       "      <td>4630314</td>\n",
       "      <td>32426504</td>\n",
       "    </tr>\n",
       "    <tr>\n",
       "      <th>44</th>\n",
       "      <td>5151</td>\n",
       "      <td>28946</td>\n",
       "      <td>208294</td>\n",
       "      <td>882578</td>\n",
       "      <td>5351168</td>\n",
       "      <td>29540783</td>\n",
       "    </tr>\n",
       "    <tr>\n",
       "      <th>45</th>\n",
       "      <td>4312</td>\n",
       "      <td>24517</td>\n",
       "      <td>150488</td>\n",
       "      <td>955463</td>\n",
       "      <td>6901221</td>\n",
       "      <td>26306845</td>\n",
       "    </tr>\n",
       "    <tr>\n",
       "      <th>46</th>\n",
       "      <td>4562</td>\n",
       "      <td>22573</td>\n",
       "      <td>175052</td>\n",
       "      <td>862305</td>\n",
       "      <td>5178721</td>\n",
       "      <td>30875370</td>\n",
       "    </tr>\n",
       "    <tr>\n",
       "      <th>47</th>\n",
       "      <td>3727</td>\n",
       "      <td>23116</td>\n",
       "      <td>194929</td>\n",
       "      <td>999218</td>\n",
       "      <td>5355087</td>\n",
       "      <td>30089796</td>\n",
       "    </tr>\n",
       "    <tr>\n",
       "      <th>48</th>\n",
       "      <td>3155</td>\n",
       "      <td>30668</td>\n",
       "      <td>183198</td>\n",
       "      <td>1082636</td>\n",
       "      <td>6014166</td>\n",
       "      <td>30233635</td>\n",
       "    </tr>\n",
       "    <tr>\n",
       "      <th>49</th>\n",
       "      <td>6148</td>\n",
       "      <td>27082</td>\n",
       "      <td>168312</td>\n",
       "      <td>821576</td>\n",
       "      <td>4755018</td>\n",
       "      <td>27103908</td>\n",
       "    </tr>\n",
       "  </tbody>\n",
       "</table>\n",
       "<p>50 rows × 6 columns</p>\n",
       "</div>"
      ],
      "text/plain": [
       "       4      5       6        7        8         9\n",
       "0   4865  26879  171393  1058172  4614442  27253070\n",
       "1   4318  23755  153554  1086588  5124229  28023991\n",
       "2   4432  19953  146538  1027405  4943330  31474718\n",
       "3   3355  29144  135179  1003148  4973237  31507228\n",
       "4   5287  27005  139783   915360  4863433  28243997\n",
       "5   4387  23917  171259   905759  5753620  28289453\n",
       "6   4169  21740  142291   914921  5299859  29136943\n",
       "7   7683  26965  173777   798812  5039680  30209802\n",
       "8   4020  21227  158554   955652  4762138  28538511\n",
       "9   3881  27365  169516   754134  5539101  29496549\n",
       "..   ...    ...     ...      ...      ...       ...\n",
       "40  4256  24804  147763   921135  5893709  27700944\n",
       "41  3405  25826  165849   979461  5238927  30313323\n",
       "42  4110  21893  145633  1157687  5017672  26244979\n",
       "43  4175  23968  166583   922665  4630314  32426504\n",
       "44  5151  28946  208294   882578  5351168  29540783\n",
       "45  4312  24517  150488   955463  6901221  26306845\n",
       "46  4562  22573  175052   862305  5178721  30875370\n",
       "47  3727  23116  194929   999218  5355087  30089796\n",
       "48  3155  30668  183198  1082636  6014166  30233635\n",
       "49  6148  27082  168312   821576  4755018  27103908\n",
       "\n",
       "[50 rows x 6 columns]"
      ]
     },
     "execution_count": 7,
     "metadata": {},
     "output_type": "execute_result"
    }
   ],
   "source": [
    "bases = [\"A\",\"T\",\"C\",\"G\",\"X\"]\n",
    "tries = 50\n",
    "kmer_len_min = 4\n",
    "kmer_len_max = 9\n",
    "\n",
    "df = pd.DataFrame(columns = range (kmer_len_min, kmer_len_max+1) , index=range(tries))\n",
    "\n",
    "for kmer_len in range (kmer_len_min, kmer_len_max+1):\n",
    "    possibilities = len(bases)**kmer_len\n",
    "    print (f\"Kmer length {kmer_len} = {possibilities} possible kmers\")\n",
    "    for t in range(tries):\n",
    "        kmers_counter = set()\n",
    "        kmer = \"\".join([choice(bases) for _ in range(kmer_len)])\n",
    "        n_base = 0\n",
    "        while len(kmers_counter) < possibilities:\n",
    "            new_base = choice(bases)\n",
    "            kmer = kmer[1:]+new_base\n",
    "            kmers_counter.add(kmer)\n",
    "            n_base+=1\n",
    "        df.loc[t, kmer_len] = n_base\n",
    "        \n",
    "df"
   ]
  },
  {
   "cell_type": "code",
   "execution_count": 9,
   "metadata": {
    "ExecuteTime": {
     "end_time": "2017-12-12T15:57:36.258836Z",
     "start_time": "2017-12-12T15:57:35.913004Z"
    }
   },
   "outputs": [
    {
     "data": {
      "image/png": "[encoded data removed]",
      "text/plain": [
       "<matplotlib.figure.Figure at 0x7fbfc07e3cf8>"
      ]
     },
     "metadata": {},
     "output_type": "display_data"
    }
   ],
   "source": [
    "fig, ax = pl.subplots(figsize=(10,10))\n",
    "_ = df.boxplot(ax=ax)\n",
    "_ = ax.set_yscale(\"log\")\n",
    "_ = ax.set_xlabel (\"kmer length\")\n",
    "_ = ax.set_ylabel (\"Sequence length\")\n",
    "_ = ax.set_title (\"Length of sequence to generate to cover all kmers\")"
   ]
  },
  {
   "cell_type": "markdown",
   "metadata": {},
   "source": [
    "# Generate a first draft design"
   ]
  },
  {
   "cell_type": "markdown",
   "metadata": {
    "ExecuteTime": {
     "end_time": "2018-01-08T18:15:12.895669Z",
     "start_time": "2018-01-08T18:15:12.889546Z"
    }
   },
   "source": [
    "* No homopolymers longer than the 6\n",
    "\n",
    "* Remove oligo with high secondary struct with RNAfold\n",
    "\n",
    "* Generate 50 times more than needed\n",
    "\n",
    "* Sample to get the best kmer diversity with the 20000 oligos in total"
   ]
  },
  {
   "cell_type": "markdown",
   "metadata": {
    "heading_collapsed": true
   },
   "source": [
    "## Generate a large number of candidate sequences "
   ]
  },
  {
   "cell_type": "code",
   "execution_count": 70,
   "metadata": {
    "ExecuteTime": {
     "end_time": "2018-01-15T11:20:36.265444Z",
     "start_time": "2018-01-15T11:18:48.625013Z"
    },
    "hidden": true,
    "scrolled": false
   },
   "outputs": [
    {
     "name": "stdout",
     "output_type": "stream",
     "text": [
      "Kmer length 7\n",
      "16384 possible kmers\n",
      "16356 kmers generated"
     ]
    }
   ],
   "source": [
    "# Define options\n",
    "bases = [\"A\",\"T\",\"C\",\"G\"]\n",
    "n_seq_total = 1000000\n",
    "seq_len = 50\n",
    "kmer_len = 7\n",
    "max_homopolymer_size = 5\n",
    "out_fasta =  \"./sequence_pool.seq\"\n",
    "homopolymer_5_base = \"C\"\n",
    "homopolymer_5_len = 6\n",
    "homopolymer_3_base = \"A\"\n",
    "homopolymer_3_len = 11\n",
    "homopolymer_5 = homopolymer_5_base*homopolymer_5_len\n",
    "homopolymer_3 = homopolymer_3_base*homopolymer_3_len\n",
    "\n",
    "# Init values\n",
    "seq_list = []\n",
    "kmer_counter = Counter()\n",
    "possible_kmers = len(bases)**kmer_len\n",
    "stdout_print (f\"Kmer length {kmer_len}\\n{possible_kmers} possible kmers\\n\")\n",
    "\n",
    "# Create sequence iteratively\n",
    "with open (out_fasta, \"w\") as out_fp:\n",
    "    for n_seq in range(n_seq_total):\n",
    "        seq = \"\"\n",
    "        previous_base = \"\"\n",
    "        previous_base_count = 0\n",
    "        \n",
    "        for pos in np.arange(seq_len):\n",
    "            \n",
    "            bases_choice = bases\n",
    "            # Prevent long homopolymers\n",
    "            if previous_base_count >= max_homopolymer_size:\n",
    "                bases_choice = [b for b in bases_choice if b != previous_base]\n",
    "                previous_base_count = 0\n",
    "                \n",
    "            # # 3 prime exception = different from the leading homopolymer\n",
    "            if pos == 0:\n",
    "                bases_choice = [b for b in bases_choice if b != homopolymer_5_base]\n",
    "                \n",
    "            # 3 prime exception = different from the trailling homopolymer\n",
    "            if pos == seq_len-1:\n",
    "                bases_choice = [b for b in bases_choice if b != homopolymer_3_base]\n",
    "                \n",
    "            # ramdomly select one of the possible base\n",
    "            base = choice(bases_choice)\n",
    "            \n",
    "            # Extend the sequence\n",
    "            seq += base\n",
    "            previous_base = base\n",
    "            previous_base_count += 1\n",
    "            \n",
    "        # Append sequence to the list and count the diferent kmers in the sequence \n",
    "        for k_start, k_end in zip (np.arange(0, seq_len-kmer_len+1), np.arange(kmer_len, seq_len+1)):\n",
    "            kmer =  seq[k_start:k_end]\n",
    "            kmer_counter [kmer] +=1\n",
    "        \n",
    "        # Add adapters and write in file\n",
    "        out_fp.write (f\"{homopolymer_5}{seq}{homopolymer_3}\\n\")\n",
    "\n",
    "stdout_print (f\"{len(kmer_counter)} kmers generated\")"
   ]
  },
  {
   "cell_type": "markdown",
   "metadata": {
    "heading_collapsed": true
   },
   "source": [
    "## Verify kmer distribution and the sequence file"
   ]
  },
  {
   "cell_type": "code",
   "execution_count": 71,
   "metadata": {
    "ExecuteTime": {
     "end_time": "2018-01-15T11:20:36.292649Z",
     "start_time": "2018-01-15T11:20:36.267266Z"
    },
    "hidden": true
   },
   "outputs": [
    {
     "data": {
      "text/html": [
       "<div>\n",
       "<style scoped>\n",
       "    .dataframe tbody tr th:only-of-type {\n",
       "        vertical-align: middle;\n",
       "    }\n",
       "\n",
       "    .dataframe tbody tr th {\n",
       "        vertical-align: top;\n",
       "    }\n",
       "\n",
       "    .dataframe thead th {\n",
       "        text-align: right;\n",
       "    }\n",
       "</style>\n",
       "<table border=\"1\" class=\"dataframe\">\n",
       "  <thead>\n",
       "    <tr style=\"text-align: right;\">\n",
       "      <th></th>\n",
       "      <th>count</th>\n",
       "    </tr>\n",
       "  </thead>\n",
       "  <tbody>\n",
       "    <tr>\n",
       "      <th>ACACGAT</th>\n",
       "      <td>4046</td>\n",
       "    </tr>\n",
       "    <tr>\n",
       "      <th>TACTATG</th>\n",
       "      <td>4029</td>\n",
       "    </tr>\n",
       "    <tr>\n",
       "      <th>ACAGTGT</th>\n",
       "      <td>4027</td>\n",
       "    </tr>\n",
       "    <tr>\n",
       "      <th>GATGATC</th>\n",
       "      <td>4023</td>\n",
       "    </tr>\n",
       "    <tr>\n",
       "      <th>TGCGCGC</th>\n",
       "      <td>4016</td>\n",
       "    </tr>\n",
       "    <tr>\n",
       "      <th>ACGACAC</th>\n",
       "      <td>4013</td>\n",
       "    </tr>\n",
       "    <tr>\n",
       "      <th>AGTAGCT</th>\n",
       "      <td>4013</td>\n",
       "    </tr>\n",
       "    <tr>\n",
       "      <th>GCTGCTG</th>\n",
       "      <td>4012</td>\n",
       "    </tr>\n",
       "    <tr>\n",
       "      <th>GCTGCGT</th>\n",
       "      <td>4006</td>\n",
       "    </tr>\n",
       "    <tr>\n",
       "      <th>AGAGAGT</th>\n",
       "      <td>4005</td>\n",
       "    </tr>\n",
       "    <tr>\n",
       "      <th>...</th>\n",
       "      <td>...</td>\n",
       "    </tr>\n",
       "    <tr>\n",
       "      <th>TTCCCCA</th>\n",
       "      <td>633</td>\n",
       "    </tr>\n",
       "    <tr>\n",
       "      <th>GTAAAAA</th>\n",
       "      <td>633</td>\n",
       "    </tr>\n",
       "    <tr>\n",
       "      <th>CCCCCAC</th>\n",
       "      <td>632</td>\n",
       "    </tr>\n",
       "    <tr>\n",
       "      <th>CTTTTCC</th>\n",
       "      <td>629</td>\n",
       "    </tr>\n",
       "    <tr>\n",
       "      <th>ACAAAAA</th>\n",
       "      <td>627</td>\n",
       "    </tr>\n",
       "    <tr>\n",
       "      <th>TTAAAAA</th>\n",
       "      <td>622</td>\n",
       "    </tr>\n",
       "    <tr>\n",
       "      <th>CCCCCAA</th>\n",
       "      <td>618</td>\n",
       "    </tr>\n",
       "    <tr>\n",
       "      <th>CTTTTGG</th>\n",
       "      <td>618</td>\n",
       "    </tr>\n",
       "    <tr>\n",
       "      <th>GGCCCCA</th>\n",
       "      <td>613</td>\n",
       "    </tr>\n",
       "    <tr>\n",
       "      <th>CAAAAGG</th>\n",
       "      <td>611</td>\n",
       "    </tr>\n",
       "  </tbody>\n",
       "</table>\n",
       "<p>16356 rows × 1 columns</p>\n",
       "</div>"
      ],
      "text/plain": [
       "         count\n",
       "ACACGAT   4046\n",
       "TACTATG   4029\n",
       "ACAGTGT   4027\n",
       "GATGATC   4023\n",
       "TGCGCGC   4016\n",
       "ACGACAC   4013\n",
       "AGTAGCT   4013\n",
       "GCTGCTG   4012\n",
       "GCTGCGT   4006\n",
       "AGAGAGT   4005\n",
       "...        ...\n",
       "TTCCCCA    633\n",
       "GTAAAAA    633\n",
       "CCCCCAC    632\n",
       "CTTTTCC    629\n",
       "ACAAAAA    627\n",
       "TTAAAAA    622\n",
       "CCCCCAA    618\n",
       "CTTTTGG    618\n",
       "GGCCCCA    613\n",
       "CAAAAGG    611\n",
       "\n",
       "[16356 rows x 1 columns]"
      ]
     },
     "execution_count": 71,
     "metadata": {},
     "output_type": "execute_result"
    }
   ],
   "source": [
    "s = pd.Series(kmer_counter, name=\"count\")\n",
    "s.sort_values(ascending=False, inplace=True)\n",
    "s.to_frame()"
   ]
  },
  {
   "cell_type": "markdown",
   "metadata": {
    "heading_collapsed": true
   },
   "source": [
    "## Run RNAfold to minimum free energy secondary structures of oligos"
   ]
  },
  {
   "cell_type": "code",
   "execution_count": 73,
   "metadata": {
    "ExecuteTime": {
     "end_time": "2018-01-15T11:20:38.612129Z",
     "start_time": "2018-01-15T11:20:36.951225Z"
    },
    "hidden": true
   },
   "outputs": [
    {
     "name": "stdout",
     "output_type": "stream",
     "text": [
      "Job <5229036> is submitted to queue <highpri>.\n"
     ]
    }
   ],
   "source": [
    "infile = \"./sequence_pool.seq\"\n",
    "outfile = \"./sequence_pool_folded.txt\"\n",
    "queue = \"highpri\"\n",
    "thread = 3\n",
    "mem = 5000\n",
    "\n",
    "cmd = f\"bsub -n {thread} -M {mem} -R 'rusage[mem={mem}]' -q {queue} -oo {outfile} -N RNAfold -i {infile}\"\n",
    "bash (virtualenv=\"ViennaRNA_2.4.3\", cmd=cmd, live=\"stderr\")"
   ]
  },
  {
   "cell_type": "markdown",
   "metadata": {
    "heading_collapsed": true
   },
   "source": [
    "## Parse the folded RNA file"
   ]
  },
  {
   "cell_type": "code",
   "execution_count": 97,
   "metadata": {
    "ExecuteTime": {
     "end_time": "2018-01-16T18:35:52.406199Z",
     "start_time": "2018-01-16T18:35:49.332647Z"
    },
    "hidden": true,
    "scrolled": false
   },
   "outputs": [
    {
     "data": {
      "text/html": [
       "<div>\n",
       "<style scoped>\n",
       "    .dataframe tbody tr th:only-of-type {\n",
       "        vertical-align: middle;\n",
       "    }\n",
       "\n",
       "    .dataframe tbody tr th {\n",
       "        vertical-align: top;\n",
       "    }\n",
       "\n",
       "    .dataframe thead th {\n",
       "        text-align: right;\n",
       "    }\n",
       "</style>\n",
       "<table border=\"1\" class=\"dataframe\">\n",
       "  <thead>\n",
       "    <tr style=\"text-align: right;\">\n",
       "      <th></th>\n",
       "      <th>MFE</th>\n",
       "    </tr>\n",
       "  </thead>\n",
       "  <tbody>\n",
       "    <tr>\n",
       "      <th>CCCCCCAAAAACAAACUCAUGUACACGGUCUAUCCGUUCGGAGUCACUGAUAAUGGAAAAAAAAAAA</th>\n",
       "      <td>-9.5</td>\n",
       "    </tr>\n",
       "    <tr>\n",
       "      <th>CCCCCCAAAAACAAAGAUUAGCAGGGCCCUCGCGGCGGAGGUGAGCAAAGCGGUACAAAAAAAAAAA</th>\n",
       "      <td>-8.6</td>\n",
       "    </tr>\n",
       "    <tr>\n",
       "      <th>CCCCCCAAAAACAAAGCGGCCGCCCGCAAGUGCCAAGCGCACGGAAGGGGAGAUACAAAAAAAAAAA</th>\n",
       "      <td>-16.6</td>\n",
       "    </tr>\n",
       "    <tr>\n",
       "      <th>CCCCCCAAAAACAAAGCGUAACUGUAGGUACUAGACAACUCAGAAUGGAAUCGUAGAAAAAAAAAAA</th>\n",
       "      <td>-2.3</td>\n",
       "    </tr>\n",
       "    <tr>\n",
       "      <th>CCCCCCAAAAACAAAGUAGUCGUUCGUGCUGAGCAUAAUAACUACCUAUCCGCCGCAAAAAAAAAAA</th>\n",
       "      <td>-7.9</td>\n",
       "    </tr>\n",
       "  </tbody>\n",
       "</table>\n",
       "</div>"
      ],
      "text/plain": [
       "                                                                      MFE\n",
       "CCCCCCAAAAACAAACUCAUGUACACGGUCUAUCCGUUCGGAGUCACUGAUAAUGGAAAAAAAAAAA  -9.5\n",
       "CCCCCCAAAAACAAAGAUUAGCAGGGCCCUCGCGGCGGAGGUGAGCAAAGCGGUACAAAAAAAAAAA  -8.6\n",
       "CCCCCCAAAAACAAAGCGGCCGCCCGCAAGUGCCAAGCGCACGGAAGGGGAGAUACAAAAAAAAAAA -16.6\n",
       "CCCCCCAAAAACAAAGCGUAACUGUAGGUACUAGACAACUCAGAAUGGAAUCGUAGAAAAAAAAAAA  -2.3\n",
       "CCCCCCAAAAACAAAGUAGUCGUUCGUGCUGAGCAUAAUAACUACCUAUCCGCCGCAAAAAAAAAAA  -7.9"
      ]
     },
     "metadata": {},
     "output_type": "display_data"
    },
    {
     "data": {
      "text/html": [
       "<div>\n",
       "<style scoped>\n",
       "    .dataframe tbody tr th:only-of-type {\n",
       "        vertical-align: middle;\n",
       "    }\n",
       "\n",
       "    .dataframe tbody tr th {\n",
       "        vertical-align: top;\n",
       "    }\n",
       "\n",
       "    .dataframe thead th {\n",
       "        text-align: right;\n",
       "    }\n",
       "</style>\n",
       "<table border=\"1\" class=\"dataframe\">\n",
       "  <thead>\n",
       "    <tr style=\"text-align: right;\">\n",
       "      <th></th>\n",
       "      <th>MFE</th>\n",
       "    </tr>\n",
       "  </thead>\n",
       "  <tbody>\n",
       "    <tr>\n",
       "      <th>count</th>\n",
       "      <td>1000000.000000</td>\n",
       "    </tr>\n",
       "    <tr>\n",
       "      <th>mean</th>\n",
       "      <td>-10.584371</td>\n",
       "    </tr>\n",
       "    <tr>\n",
       "      <th>std</th>\n",
       "      <td>4.042456</td>\n",
       "    </tr>\n",
       "    <tr>\n",
       "      <th>min</th>\n",
       "      <td>-35.500000</td>\n",
       "    </tr>\n",
       "    <tr>\n",
       "      <th>5%</th>\n",
       "      <td>-17.600000</td>\n",
       "    </tr>\n",
       "    <tr>\n",
       "      <th>10%</th>\n",
       "      <td>-15.900000</td>\n",
       "    </tr>\n",
       "    <tr>\n",
       "      <th>25%</th>\n",
       "      <td>-13.100000</td>\n",
       "    </tr>\n",
       "    <tr>\n",
       "      <th>50%</th>\n",
       "      <td>-10.300000</td>\n",
       "    </tr>\n",
       "    <tr>\n",
       "      <th>75%</th>\n",
       "      <td>-7.700000</td>\n",
       "    </tr>\n",
       "    <tr>\n",
       "      <th>90%</th>\n",
       "      <td>-5.600000</td>\n",
       "    </tr>\n",
       "    <tr>\n",
       "      <th>95%</th>\n",
       "      <td>-4.400000</td>\n",
       "    </tr>\n",
       "    <tr>\n",
       "      <th>max</th>\n",
       "      <td>0.000000</td>\n",
       "    </tr>\n",
       "  </tbody>\n",
       "</table>\n",
       "</div>"
      ],
      "text/plain": [
       "                  MFE\n",
       "count  1000000.000000\n",
       "mean       -10.584371\n",
       "std          4.042456\n",
       "min        -35.500000\n",
       "5%         -17.600000\n",
       "10%        -15.900000\n",
       "25%        -13.100000\n",
       "50%        -10.300000\n",
       "75%         -7.700000\n",
       "90%         -5.600000\n",
       "95%         -4.400000\n",
       "max          0.000000"
      ]
     },
     "metadata": {},
     "output_type": "display_data"
    }
   ],
   "source": [
    "seq_dict = {}\n",
    "\n",
    "with open (\"./sequence_pool_folded.txt\") as fp:\n",
    "    score = 0\n",
    "    seq = \"\"    \n",
    "    for line in fp:\n",
    "        if not seq:\n",
    "            seq = line.strip()\n",
    "        else:\n",
    "            score = line.rpartition(\")\")[0].rpartition(\"(\")[2].strip()\n",
    "            if score:\n",
    "                seq_dict[seq] = float(score)\n",
    "            seq=\"\"\n",
    "\n",
    "s = pd.Series(seq_dict, name=\"MFE\")\n",
    "display(s.head().to_frame())\n",
    "display(s.describe(percentiles=[0.05,0.10, 0.25, 0.5, 0.75, 0.90, 0.95]).to_frame())"
   ]
  },
  {
   "cell_type": "markdown",
   "metadata": {
    "ExecuteTime": {
     "end_time": "2018-01-10T17:35:28.814610Z",
     "start_time": "2018-01-10T17:35:28.810608Z"
    },
    "hidden": true
   },
   "source": [
    "### Filter out the lower decile (with higher folding energy) and count valid kmers"
   ]
  },
  {
   "cell_type": "code",
   "execution_count": 98,
   "metadata": {
    "ExecuteTime": {
     "end_time": "2018-01-16T18:36:51.880294Z",
     "start_time": "2018-01-16T18:36:14.319867Z"
    },
    "hidden": true
   },
   "outputs": [
    {
     "name": "stderr",
     "output_type": "stream",
     "text": [
      "100%|██████████| 1000000/1000000 [00:37<00:00, 26655.05it/s]"
     ]
    },
    {
     "name": "stdout",
     "output_type": "stream",
     "text": [
      "Number of valid sequences: 948364\n",
      "16356 kmers found\n"
     ]
    },
    {
     "name": "stderr",
     "output_type": "stream",
     "text": [
      "\n"
     ]
    },
    {
     "data": {
      "text/html": [
       "<div>\n",
       "<style scoped>\n",
       "    .dataframe tbody tr th:only-of-type {\n",
       "        vertical-align: middle;\n",
       "    }\n",
       "\n",
       "    .dataframe tbody tr th {\n",
       "        vertical-align: top;\n",
       "    }\n",
       "\n",
       "    .dataframe thead th {\n",
       "        text-align: right;\n",
       "    }\n",
       "</style>\n",
       "<table border=\"1\" class=\"dataframe\">\n",
       "  <thead>\n",
       "    <tr style=\"text-align: right;\">\n",
       "      <th></th>\n",
       "      <th>count</th>\n",
       "    </tr>\n",
       "  </thead>\n",
       "  <tbody>\n",
       "    <tr>\n",
       "      <th>ACACGAU</th>\n",
       "      <td>3936</td>\n",
       "    </tr>\n",
       "    <tr>\n",
       "      <th>UAUAGAU</th>\n",
       "      <td>3915</td>\n",
       "    </tr>\n",
       "    <tr>\n",
       "      <th>UAGAUAU</th>\n",
       "      <td>3900</td>\n",
       "    </tr>\n",
       "    <tr>\n",
       "      <th>UACUAUG</th>\n",
       "      <td>3895</td>\n",
       "    </tr>\n",
       "    <tr>\n",
       "      <th>ACGACAC</th>\n",
       "      <td>3884</td>\n",
       "    </tr>\n",
       "    <tr>\n",
       "      <th>UAGAUAC</th>\n",
       "      <td>3870</td>\n",
       "    </tr>\n",
       "    <tr>\n",
       "      <th>UCUCACU</th>\n",
       "      <td>3868</td>\n",
       "    </tr>\n",
       "    <tr>\n",
       "      <th>AUACUAU</th>\n",
       "      <td>3865</td>\n",
       "    </tr>\n",
       "    <tr>\n",
       "      <th>UAUAGAC</th>\n",
       "      <td>3863</td>\n",
       "    </tr>\n",
       "    <tr>\n",
       "      <th>UACAUCU</th>\n",
       "      <td>3862</td>\n",
       "    </tr>\n",
       "    <tr>\n",
       "      <th>...</th>\n",
       "      <td>...</td>\n",
       "    </tr>\n",
       "    <tr>\n",
       "      <th>ACGGGGG</th>\n",
       "      <td>463</td>\n",
       "    </tr>\n",
       "    <tr>\n",
       "      <th>AUGGGGG</th>\n",
       "      <td>457</td>\n",
       "    </tr>\n",
       "    <tr>\n",
       "      <th>CCGGGGG</th>\n",
       "      <td>446</td>\n",
       "    </tr>\n",
       "    <tr>\n",
       "      <th>GGGGGAC</th>\n",
       "      <td>444</td>\n",
       "    </tr>\n",
       "    <tr>\n",
       "      <th>CUGGGGG</th>\n",
       "      <td>432</td>\n",
       "    </tr>\n",
       "    <tr>\n",
       "      <th>UCGGGGG</th>\n",
       "      <td>426</td>\n",
       "    </tr>\n",
       "    <tr>\n",
       "      <th>GAGGGGG</th>\n",
       "      <td>412</td>\n",
       "    </tr>\n",
       "    <tr>\n",
       "      <th>GUGGGGG</th>\n",
       "      <td>407</td>\n",
       "    </tr>\n",
       "    <tr>\n",
       "      <th>GGGGGAG</th>\n",
       "      <td>405</td>\n",
       "    </tr>\n",
       "    <tr>\n",
       "      <th>GCGGGGG</th>\n",
       "      <td>381</td>\n",
       "    </tr>\n",
       "  </tbody>\n",
       "</table>\n",
       "<p>16356 rows × 1 columns</p>\n",
       "</div>"
      ],
      "text/plain": [
       "         count\n",
       "ACACGAU   3936\n",
       "UAUAGAU   3915\n",
       "UAGAUAU   3900\n",
       "UACUAUG   3895\n",
       "ACGACAC   3884\n",
       "UAGAUAC   3870\n",
       "UCUCACU   3868\n",
       "AUACUAU   3865\n",
       "UAUAGAC   3863\n",
       "UACAUCU   3862\n",
       "...        ...\n",
       "ACGGGGG    463\n",
       "AUGGGGG    457\n",
       "CCGGGGG    446\n",
       "GGGGGAC    444\n",
       "CUGGGGG    432\n",
       "UCGGGGG    426\n",
       "GAGGGGG    412\n",
       "GUGGGGG    407\n",
       "GGGGGAG    405\n",
       "GCGGGGG    381\n",
       "\n",
       "[16356 rows x 1 columns]"
      ]
     },
     "metadata": {},
     "output_type": "display_data"
    }
   ],
   "source": [
    "cutoff = -17.6\n",
    "kmer_counter = Counter()\n",
    "start_offset = 6\n",
    "end_offset = 12\n",
    "kmer_len = 7\n",
    "valid_seq_list = []\n",
    "\n",
    "for seq, score in tqdm(seq_dict.items()):\n",
    "    if score > cutoff:\n",
    "        valid_seq_list.append(seq)\n",
    "        for k_start in np.arange(start_offset, len(seq)-kmer_len-end_offset+2):\n",
    "            k_end = k_start+kmer_len\n",
    "            kmer =  seq[k_start:k_end]\n",
    "            kmer_counter [kmer] +=1\n",
    "\n",
    "stdout_print (f\"Number of valid sequences: {len(valid_seq_list)}\\n\")\n",
    "stdout_print (f\"{len(kmer_counter)} kmers found\\n\")\n",
    "\n",
    "s = pd.Series(kmer_counter, name=\"count\")\n",
    "s.sort_values(ascending=False, inplace=True)\n",
    "display(s.to_frame())"
   ]
  },
  {
   "cell_type": "code",
   "execution_count": 99,
   "metadata": {
    "ExecuteTime": {
     "end_time": "2018-01-16T18:37:25.074777Z",
     "start_time": "2018-01-16T18:37:24.619893Z"
    },
    "hidden": true,
    "scrolled": true
   },
   "outputs": [
    {
     "data": {
      "text/html": [
       "<p style=\"line-height:10px;\">CCCCCCGUGUGAUCAGCAGGCGUAAAGCACAGCCAUCAUGGAAGAUGCGAUACUAUAAAAAAAAAAA</p>"
      ],
      "text/plain": [
       "<IPython.core.display.HTML object>"
      ]
     },
     "metadata": {},
     "output_type": "display_data"
    },
    {
     "data": {
      "text/html": [
       "<p style=\"line-height:10px;\">CCCCCCACUGGCGACCUCUAGAACCUGAUGCAAUGUAGCUGUCAAGACAGCGAAUUAAAAAAAAAAA</p>"
      ],
      "text/plain": [
       "<IPython.core.display.HTML object>"
      ]
     },
     "metadata": {},
     "output_type": "display_data"
    },
    {
     "data": {
      "text/html": [
       "<p style=\"line-height:10px;\">CCCCCCAGGCUAAACAUCGGAUACCGCAAUAUGAUUCACUUGAGGGAUCGAGGGAGAAAAAAAAAAA</p>"
      ],
      "text/plain": [
       "<IPython.core.display.HTML object>"
      ]
     },
     "metadata": {},
     "output_type": "display_data"
    },
    {
     "data": {
      "text/html": [
       "<p style=\"line-height:10px;\">CCCCCCUGUGUGCGGCUAAAAUGAUCGAAGUAAAUCAUAACUCUCUCUUCCAGCCGAAAAAAAAAAA</p>"
      ],
      "text/plain": [
       "<IPython.core.display.HTML object>"
      ]
     },
     "metadata": {},
     "output_type": "display_data"
    },
    {
     "data": {
      "text/html": [
       "<p style=\"line-height:10px;\">CCCCCCACAGACUAAUGGAGUAUUCUCACUUAUAUCGAGGUAAACGCGACCUAGUGAAAAAAAAAAA</p>"
      ],
      "text/plain": [
       "<IPython.core.display.HTML object>"
      ]
     },
     "metadata": {},
     "output_type": "display_data"
    }
   ],
   "source": [
    "outfile = \"valid_seq_list.txt\"\n",
    "with open(outfile, \"w\") as fh:\n",
    "    for seq in valid_seq_list:\n",
    "        fh.write(f\"{seq}\\n\")\n",
    "head(outfile, 5)"
   ]
  },
  {
   "cell_type": "markdown",
   "metadata": {
    "heading_collapsed": true
   },
   "source": [
    "# Sample 20 000 Sequences multiple times and analyse kmer composition"
   ]
  },
  {
   "cell_type": "markdown",
   "metadata": {
    "hidden": true
   },
   "source": [
    "We want as many kmers as possible = with the more homogeneous distribution."
   ]
  },
  {
   "cell_type": "code",
   "execution_count": 100,
   "metadata": {
    "ExecuteTime": {
     "end_time": "2018-01-16T18:37:36.098595Z",
     "start_time": "2018-01-16T18:37:35.699337Z"
    },
    "hidden": true
   },
   "outputs": [],
   "source": [
    "infile = \"valid_seq_list.txt\"\n",
    "seq_list=[]\n",
    "with open(infile, \"r\") as fh:\n",
    "    for seq in fh:\n",
    "        seq_list.append (seq.rstrip())"
   ]
  },
  {
   "cell_type": "code",
   "execution_count": 101,
   "metadata": {
    "ExecuteTime": {
     "end_time": "2018-01-16T18:38:51.670421Z",
     "start_time": "2018-01-16T18:37:38.639092Z"
    },
    "hidden": true,
    "scrolled": false
   },
   "outputs": [
    {
     "name": "stderr",
     "output_type": "stream",
     "text": [
      "100%|██████████| 100/100 [01:12<00:00,  1.37it/s]\n"
     ]
    },
    {
     "data": {
      "text/html": [
       "<div>\n",
       "<style scoped>\n",
       "    .dataframe tbody tr th:only-of-type {\n",
       "        vertical-align: middle;\n",
       "    }\n",
       "\n",
       "    .dataframe tbody tr th {\n",
       "        vertical-align: top;\n",
       "    }\n",
       "\n",
       "    .dataframe thead th {\n",
       "        text-align: right;\n",
       "    }\n",
       "</style>\n",
       "<table border=\"1\" class=\"dataframe\">\n",
       "  <thead>\n",
       "    <tr style=\"text-align: right;\">\n",
       "      <th></th>\n",
       "      <th>diff</th>\n",
       "      <th>max</th>\n",
       "      <th>min</th>\n",
       "      <th>n_kmers</th>\n",
       "      <th>sd_count</th>\n",
       "      <th>seq_id_list</th>\n",
       "    </tr>\n",
       "  </thead>\n",
       "  <tbody>\n",
       "    <tr>\n",
       "      <th>90</th>\n",
       "      <td>104</td>\n",
       "      <td>110</td>\n",
       "      <td>6</td>\n",
       "      <td>16356</td>\n",
       "      <td>16.979431</td>\n",
       "      <td>[935601, 202962, 207975, 13271, 484905, 15623, 359213, 203098, 666463, 132874, 807653, 450123, 2...</td>\n",
       "    </tr>\n",
       "    <tr>\n",
       "      <th>50</th>\n",
       "      <td>105</td>\n",
       "      <td>110</td>\n",
       "      <td>5</td>\n",
       "      <td>16356</td>\n",
       "      <td>17.175440</td>\n",
       "      <td>[483084, 925570, 298462, 291015, 942083, 633167, 361788, 585260, 880619, 28059, 723699, 512288, ...</td>\n",
       "    </tr>\n",
       "    <tr>\n",
       "      <th>91</th>\n",
       "      <td>101</td>\n",
       "      <td>106</td>\n",
       "      <td>5</td>\n",
       "      <td>16356</td>\n",
       "      <td>17.220089</td>\n",
       "      <td>[690683, 77517, 905130, 924595, 602179, 31028, 211202, 35230, 388609, 297217, 694734, 415260, 39...</td>\n",
       "    </tr>\n",
       "    <tr>\n",
       "      <th>79</th>\n",
       "      <td>100</td>\n",
       "      <td>105</td>\n",
       "      <td>5</td>\n",
       "      <td>16356</td>\n",
       "      <td>17.095667</td>\n",
       "      <td>[208170, 819389, 619904, 431013, 419368, 627067, 727222, 703177, 814646, 797476, 374339, 500597,...</td>\n",
       "    </tr>\n",
       "    <tr>\n",
       "      <th>78</th>\n",
       "      <td>103</td>\n",
       "      <td>108</td>\n",
       "      <td>5</td>\n",
       "      <td>16356</td>\n",
       "      <td>17.149592</td>\n",
       "      <td>[164257, 409523, 29955, 282512, 28944, 490356, 356423, 126483, 128040, 761524, 851569, 364161, 2...</td>\n",
       "    </tr>\n",
       "    <tr>\n",
       "      <th>65</th>\n",
       "      <td>106</td>\n",
       "      <td>111</td>\n",
       "      <td>5</td>\n",
       "      <td>16356</td>\n",
       "      <td>17.245637</td>\n",
       "      <td>[439446, 807399, 317488, 62410, 222109, 817875, 733333, 603297, 576043, 364909, 143647, 848265, ...</td>\n",
       "    </tr>\n",
       "    <tr>\n",
       "      <th>42</th>\n",
       "      <td>104</td>\n",
       "      <td>109</td>\n",
       "      <td>5</td>\n",
       "      <td>16356</td>\n",
       "      <td>17.007358</td>\n",
       "      <td>[169310, 893113, 836680, 112863, 232763, 821011, 486924, 389392, 304784, 942903, 81565, 280119, ...</td>\n",
       "    </tr>\n",
       "    <tr>\n",
       "      <th>44</th>\n",
       "      <td>110</td>\n",
       "      <td>115</td>\n",
       "      <td>5</td>\n",
       "      <td>16356</td>\n",
       "      <td>17.085400</td>\n",
       "      <td>[722724, 807590, 481732, 377583, 308583, 427746, 311996, 910862, 622906, 629248, 468315, 715161,...</td>\n",
       "    </tr>\n",
       "    <tr>\n",
       "      <th>23</th>\n",
       "      <td>105</td>\n",
       "      <td>110</td>\n",
       "      <td>5</td>\n",
       "      <td>16356</td>\n",
       "      <td>17.202519</td>\n",
       "      <td>[579790, 50589, 26117, 216232, 428022, 77132, 684872, 447622, 550854, 832829, 111561, 872343, 30...</td>\n",
       "    </tr>\n",
       "    <tr>\n",
       "      <th>49</th>\n",
       "      <td>102</td>\n",
       "      <td>107</td>\n",
       "      <td>5</td>\n",
       "      <td>16356</td>\n",
       "      <td>17.157679</td>\n",
       "      <td>[687345, 347106, 75064, 26182, 2149, 335831, 487007, 840451, 96704, 40993, 587475, 62065, 371107...</td>\n",
       "    </tr>\n",
       "    <tr>\n",
       "      <th>...</th>\n",
       "      <td>...</td>\n",
       "      <td>...</td>\n",
       "      <td>...</td>\n",
       "      <td>...</td>\n",
       "      <td>...</td>\n",
       "      <td>...</td>\n",
       "    </tr>\n",
       "    <tr>\n",
       "      <th>72</th>\n",
       "      <td>105</td>\n",
       "      <td>107</td>\n",
       "      <td>2</td>\n",
       "      <td>16356</td>\n",
       "      <td>17.192024</td>\n",
       "      <td>[398192, 382425, 30688, 292508, 53120, 459655, 352837, 87588, 622264, 564981, 364760, 677453, 73...</td>\n",
       "    </tr>\n",
       "    <tr>\n",
       "      <th>52</th>\n",
       "      <td>104</td>\n",
       "      <td>106</td>\n",
       "      <td>2</td>\n",
       "      <td>16356</td>\n",
       "      <td>17.072566</td>\n",
       "      <td>[435546, 319727, 63032, 713015, 635658, 209560, 624687, 459553, 371467, 186560, 480033, 610412, ...</td>\n",
       "    </tr>\n",
       "    <tr>\n",
       "      <th>25</th>\n",
       "      <td>109</td>\n",
       "      <td>111</td>\n",
       "      <td>2</td>\n",
       "      <td>16356</td>\n",
       "      <td>17.209292</td>\n",
       "      <td>[485899, 363525, 289737, 783337, 851544, 947397, 356265, 627865, 847408, 383360, 219535, 26662, ...</td>\n",
       "    </tr>\n",
       "    <tr>\n",
       "      <th>63</th>\n",
       "      <td>108</td>\n",
       "      <td>110</td>\n",
       "      <td>2</td>\n",
       "      <td>16356</td>\n",
       "      <td>17.097409</td>\n",
       "      <td>[332466, 905234, 878793, 529155, 592531, 358501, 625242, 427586, 241113, 574219, 942000, 140056,...</td>\n",
       "    </tr>\n",
       "    <tr>\n",
       "      <th>10</th>\n",
       "      <td>105</td>\n",
       "      <td>107</td>\n",
       "      <td>2</td>\n",
       "      <td>16356</td>\n",
       "      <td>17.215252</td>\n",
       "      <td>[166461, 766908, 202783, 891155, 550725, 294176, 103410, 352857, 356870, 306784, 524748, 642470,...</td>\n",
       "    </tr>\n",
       "    <tr>\n",
       "      <th>68</th>\n",
       "      <td>111</td>\n",
       "      <td>113</td>\n",
       "      <td>2</td>\n",
       "      <td>16356</td>\n",
       "      <td>17.409284</td>\n",
       "      <td>[435173, 626959, 591772, 385283, 395015, 208291, 827671, 10594, 78617, 885682, 23543, 399506, 53...</td>\n",
       "    </tr>\n",
       "    <tr>\n",
       "      <th>30</th>\n",
       "      <td>106</td>\n",
       "      <td>108</td>\n",
       "      <td>2</td>\n",
       "      <td>16356</td>\n",
       "      <td>17.031347</td>\n",
       "      <td>[370305, 756434, 916150, 553014, 244625, 132544, 854249, 622221, 328437, 267259, 365872, 245998,...</td>\n",
       "    </tr>\n",
       "    <tr>\n",
       "      <th>2</th>\n",
       "      <td>109</td>\n",
       "      <td>111</td>\n",
       "      <td>2</td>\n",
       "      <td>16356</td>\n",
       "      <td>17.326600</td>\n",
       "      <td>[73117, 889190, 566742, 400970, 575964, 114600, 940740, 35087, 426866, 404026, 447601, 893240, 2...</td>\n",
       "    </tr>\n",
       "    <tr>\n",
       "      <th>98</th>\n",
       "      <td>114</td>\n",
       "      <td>116</td>\n",
       "      <td>2</td>\n",
       "      <td>16356</td>\n",
       "      <td>17.081059</td>\n",
       "      <td>[299272, 687014, 472939, 586889, 847262, 385930, 615896, 861575, 861732, 340406, 230893, 644056,...</td>\n",
       "    </tr>\n",
       "    <tr>\n",
       "      <th>76</th>\n",
       "      <td>109</td>\n",
       "      <td>110</td>\n",
       "      <td>1</td>\n",
       "      <td>16356</td>\n",
       "      <td>17.362158</td>\n",
       "      <td>[681905, 867496, 190951, 122668, 549730, 480446, 360029, 869391, 694133, 591147, 122326, 449101,...</td>\n",
       "    </tr>\n",
       "  </tbody>\n",
       "</table>\n",
       "<p>100 rows × 6 columns</p>\n",
       "</div>"
      ],
      "text/plain": [
       "    diff  max  min  n_kmers   sd_count  \\\n",
       "90   104  110    6    16356  16.979431   \n",
       "50   105  110    5    16356  17.175440   \n",
       "91   101  106    5    16356  17.220089   \n",
       "79   100  105    5    16356  17.095667   \n",
       "78   103  108    5    16356  17.149592   \n",
       "65   106  111    5    16356  17.245637   \n",
       "42   104  109    5    16356  17.007358   \n",
       "44   110  115    5    16356  17.085400   \n",
       "23   105  110    5    16356  17.202519   \n",
       "49   102  107    5    16356  17.157679   \n",
       "..   ...  ...  ...      ...        ...   \n",
       "72   105  107    2    16356  17.192024   \n",
       "52   104  106    2    16356  17.072566   \n",
       "25   109  111    2    16356  17.209292   \n",
       "63   108  110    2    16356  17.097409   \n",
       "10   105  107    2    16356  17.215252   \n",
       "68   111  113    2    16356  17.409284   \n",
       "30   106  108    2    16356  17.031347   \n",
       "2    109  111    2    16356  17.326600   \n",
       "98   114  116    2    16356  17.081059   \n",
       "76   109  110    1    16356  17.362158   \n",
       "\n",
       "                                                                                            seq_id_list  \n",
       "90  [935601, 202962, 207975, 13271, 484905, 15623, 359213, 203098, 666463, 132874, 807653, 450123, 2...  \n",
       "50  [483084, 925570, 298462, 291015, 942083, 633167, 361788, 585260, 880619, 28059, 723699, 512288, ...  \n",
       "91  [690683, 77517, 905130, 924595, 602179, 31028, 211202, 35230, 388609, 297217, 694734, 415260, 39...  \n",
       "79  [208170, 819389, 619904, 431013, 419368, 627067, 727222, 703177, 814646, 797476, 374339, 500597,...  \n",
       "78  [164257, 409523, 29955, 282512, 28944, 490356, 356423, 126483, 128040, 761524, 851569, 364161, 2...  \n",
       "65  [439446, 807399, 317488, 62410, 222109, 817875, 733333, 603297, 576043, 364909, 143647, 848265, ...  \n",
       "42  [169310, 893113, 836680, 112863, 232763, 821011, 486924, 389392, 304784, 942903, 81565, 280119, ...  \n",
       "44  [722724, 807590, 481732, 377583, 308583, 427746, 311996, 910862, 622906, 629248, 468315, 715161,...  \n",
       "23  [579790, 50589, 26117, 216232, 428022, 77132, 684872, 447622, 550854, 832829, 111561, 872343, 30...  \n",
       "49  [687345, 347106, 75064, 26182, 2149, 335831, 487007, 840451, 96704, 40993, 587475, 62065, 371107...  \n",
       "..                                                                                                  ...  \n",
       "72  [398192, 382425, 30688, 292508, 53120, 459655, 352837, 87588, 622264, 564981, 364760, 677453, 73...  \n",
       "52  [435546, 319727, 63032, 713015, 635658, 209560, 624687, 459553, 371467, 186560, 480033, 610412, ...  \n",
       "25  [485899, 363525, 289737, 783337, 851544, 947397, 356265, 627865, 847408, 383360, 219535, 26662, ...  \n",
       "63  [332466, 905234, 878793, 529155, 592531, 358501, 625242, 427586, 241113, 574219, 942000, 140056,...  \n",
       "10  [166461, 766908, 202783, 891155, 550725, 294176, 103410, 352857, 356870, 306784, 524748, 642470,...  \n",
       "68  [435173, 626959, 591772, 385283, 395015, 208291, 827671, 10594, 78617, 885682, 23543, 399506, 53...  \n",
       "30  [370305, 756434, 916150, 553014, 244625, 132544, 854249, 622221, 328437, 267259, 365872, 245998,...  \n",
       "2   [73117, 889190, 566742, 400970, 575964, 114600, 940740, 35087, 426866, 404026, 447601, 893240, 2...  \n",
       "98  [299272, 687014, 472939, 586889, 847262, 385930, 615896, 861575, 861732, 340406, 230893, 644056,...  \n",
       "76  [681905, 867496, 190951, 122668, 549730, 480446, 360029, 869391, 694133, 591147, 122326, 449101,...  \n",
       "\n",
       "[100 rows x 6 columns]"
      ]
     },
     "execution_count": 101,
     "metadata": {},
     "output_type": "execute_result"
    }
   ],
   "source": [
    "n_seq = len(seq_list)\n",
    "nseq_per_bundle = 20000\n",
    "n_bundles = 100\n",
    "start_offset = 6\n",
    "end_offset = 12\n",
    "kmer_len = 7\n",
    "\n",
    "seq_bundle_list = []\n",
    "for i in trange(n_bundles):\n",
    "    seq_id_list = np.random.randint(0, n_seq, size=nseq_per_bundle)\n",
    "    kmer_counter = Counter()\n",
    "    for seq_id in seq_id_list:\n",
    "        seq = seq_list[seq_id]\n",
    "        for k_start in np.arange(start_offset, len(seq)-kmer_len-end_offset+2):\n",
    "            k_end = k_start+kmer_len\n",
    "            kmer = seq[k_start:k_end]\n",
    "            kmer_counter [kmer] +=1\n",
    "    \n",
    "    n_kmers = len (kmer_counter)\n",
    "    counts = list(kmer_counter.values())\n",
    "    min_count = np.min (counts)        \n",
    "    sd_count = np.std (counts)\n",
    "    max_count = np.max (counts)\n",
    "    diff = max_count-min_count\n",
    "    seq_bundle_list.append({\"seq_id_list\":seq_id_list,\"n_kmers\":n_kmers,\"sd_count\":sd_count, \"min\":min_count, \"max\":max_count, \"diff\":diff})\n",
    "\n",
    "df = pd.DataFrame(seq_bundle_list)\n",
    "df.sort_values([\"min\"], inplace=True, ascending=False)\n",
    "df"
   ]
  },
  {
   "cell_type": "markdown",
   "metadata": {
    "hidden": true
   },
   "source": [
    "Works but too slow to scale up"
   ]
  },
  {
   "cell_type": "markdown",
   "metadata": {
    "heading_collapsed": true,
    "hidden": true
   },
   "source": [
    "###  Multiprocessing version"
   ]
  },
  {
   "cell_type": "code",
   "execution_count": 3,
   "metadata": {
    "ExecuteTime": {
     "end_time": "2018-01-17T23:05:51.584943Z",
     "start_time": "2018-01-17T23:05:51.347226Z"
    },
    "hidden": true
   },
   "outputs": [],
   "source": [
    "def kmer_per_seq_bundle (seq_file, nseq_per_bundle, n_bundles, start_offset, end_offset, kmer_len, min_score, threads):\n",
    "    \"\"\"\n",
    "    Multithreaded function to speed up the analysis\n",
    "    \"\"\"\n",
    "    \n",
    "    stdout_print (\"Parse sequence file\\n\")\n",
    "    seq_list=[]\n",
    "    with open(seq_file, \"r\") as fh:\n",
    "        for seq in fh:\n",
    "            seq_list.append (seq.rstrip()) \n",
    "    n_seq = len(seq_list)\n",
    "    \n",
    "    stdout_print (\"Simulating sequence combination\\n\")\n",
    "    # Init Multiprocessing variables\n",
    "    with mp.Manager() as manager:\n",
    "        seq_bundle_q = manager.Queue()\n",
    "        kmer_stat_q = manager.Queue()\n",
    "        counter_q = manager.Queue()\n",
    "\n",
    "        # Define sampling process\n",
    "        make_bundle_args = (n_seq, nseq_per_bundle, n_bundles, seq_bundle_q, threads)\n",
    "        make_bundle_ps = mp.Process (target=make_bundle_w, args=make_bundle_args)\n",
    "\n",
    "        # Define kmer count process\n",
    "        kmer_stat_args = (seq_list, start_offset, end_offset, kmer_len, seq_bundle_q, kmer_stat_q, counter_q, min_score)\n",
    "        kmer_stat_psl = [mp.Process (target=kmer_stat_w, args=kmer_stat_args) for _ in range (threads)]\n",
    "\n",
    "        # Define kmer count process\n",
    "        counter_args = (counter_q, n_bundles, threads)\n",
    "        counter_ps = mp.Process (target=counter_w, args=counter_args)\n",
    "\n",
    "        # Start processes\n",
    "        make_bundle_ps.start()\n",
    "        for p in kmer_stat_psl: p.start()\n",
    "        counter_ps.start()\n",
    "\n",
    "        # Wait for processes to finish\n",
    "        make_bundle_ps.join()\n",
    "        for p in kmer_stat_psl: p.join()\n",
    "        counter_ps.join()\n",
    "        \n",
    "        stdout_print (\"Unpacking queue to list\\n\")\n",
    "        l = queue_to_list (q=kmer_stat_q, total=n_bundles, n_poison_pills=threads)\n",
    "\n",
    "    stdout_print (\"Transform results to dataframe\\n\")\n",
    "    df = pd.DataFrame(l)\n",
    "    df.sort_values([\"n_kmers\", \"min\", \"max\"], inplace=True, ascending=[False, False, True])\n",
    "    return df\n",
    "            \n",
    "def make_bundle_w (n_seq, nseq_per_bundle, n_bundles, seq_bundle_q, threads):\n",
    "    \"\"\"\"\"\"\n",
    "    # Create seq_index_list and enqueue\n",
    "    for entry in np.arange(n_bundles):\n",
    "        a = list(np.random.randint(0, n_seq, size=nseq_per_bundle))\n",
    "        seq_bundle_q.put (a)\n",
    "        \n",
    "    # Add 1 poison pill per worker thread\n",
    "    for i in range (threads):\n",
    "        seq_bundle_q.put (None)\n",
    "\n",
    "def kmer_stat_w (seq_list, start_offset, end_offset, kmer_len, seq_bundle_q, kmer_stat_q, counter_q, min_score):\n",
    "    \"\"\"\"\"\"\n",
    "    # Consume the seq_bundle queue\n",
    "    for seq_index_list in iter (seq_bundle_q.get, None):\n",
    "        kmer_counter = Counter()\n",
    "        # Iterate over sequences of the index list\n",
    "        for seq_index in seq_index_list:\n",
    "            seq = seq_list[seq_index]\n",
    "            # Count kmers in the sequence\n",
    "            for k_start in np.arange(start_offset, len(seq)-kmer_len-end_offset+2):\n",
    "                kmer = seq[k_start:k_start+kmer_len]\n",
    "                kmer_counter [kmer] += 1\n",
    "        \n",
    "        # Compute metrics\n",
    "        n_kmers = len (kmer_counter)\n",
    "        counts = list(kmer_counter.values())\n",
    "        sd_count = np.std (counts)\n",
    "        min_count = np.min (counts)\n",
    "        max_count = np.max (counts)\n",
    "        # Add to queue only of min score is high enough \n",
    "        if min_count >= min_score:\n",
    "            kmer_stat_q.put({\"seq_id_list\":seq_index_list,\"n_kmers\":n_kmers,\"sd_count\":sd_count, \"min\":min_count, \"max\":max_count})\n",
    "        counter_q.put(1)\n",
    "    \n",
    "    kmer_stat_q.put (None)\n",
    "    counter_q.put (None)\n",
    "    \n",
    "def counter_w (counter_q, n_bundles, threads):\n",
    "    with tqdm (total=n_bundles, mininterval=0.5) as pbar:\n",
    "        for _ in range (threads):\n",
    "            for pill in iter(counter_q.get, None):\n",
    "                pbar.update(1)\n",
    "\n",
    "def queue_to_list (q, total, n_poison_pills):\n",
    "    l=[]\n",
    "    with tqdm (mininterval=0.5) as pbar:\n",
    "        for _ in range (n_poison_pills):\n",
    "            for item in iter(q.get, None):\n",
    "                l.append (item)\n",
    "                pbar.update(1)\n",
    "    return l"
   ]
  },
  {
   "cell_type": "code",
   "execution_count": 4,
   "metadata": {
    "ExecuteTime": {
     "end_time": "2018-01-18T06:44:31.347435Z",
     "start_time": "2018-01-17T23:06:06.391211Z"
    },
    "hidden": true,
    "scrolled": false
   },
   "outputs": [
    {
     "name": "stdout",
     "output_type": "stream",
     "text": [
      "Parse sequence file\n",
      "Simulating sequence combination\n"
     ]
    },
    {
     "name": "stderr",
     "output_type": "stream",
     "text": [
      "100%|██████████| 500000/500000 [7:38:14<00:00, 18.19it/s]  \n"
     ]
    },
    {
     "name": "stdout",
     "output_type": "stream",
     "text": [
      "Unpacking queue to list\n"
     ]
    },
    {
     "name": "stderr",
     "output_type": "stream",
     "text": [
      "250it [00:09, 25.61it/s]"
     ]
    },
    {
     "name": "stdout",
     "output_type": "stream",
     "text": [
      "Transform results to dataframe\n"
     ]
    },
    {
     "name": "stderr",
     "output_type": "stream",
     "text": [
      "\n"
     ]
    },
    {
     "data": {
      "text/html": [
       "<div>\n",
       "<style scoped>\n",
       "    .dataframe tbody tr th:only-of-type {\n",
       "        vertical-align: middle;\n",
       "    }\n",
       "\n",
       "    .dataframe tbody tr th {\n",
       "        vertical-align: top;\n",
       "    }\n",
       "\n",
       "    .dataframe thead th {\n",
       "        text-align: right;\n",
       "    }\n",
       "</style>\n",
       "<table border=\"1\" class=\"dataframe\">\n",
       "  <thead>\n",
       "    <tr style=\"text-align: right;\">\n",
       "      <th></th>\n",
       "      <th>max</th>\n",
       "      <th>min</th>\n",
       "      <th>n_kmers</th>\n",
       "      <th>sd_count</th>\n",
       "      <th>seq_id_list</th>\n",
       "    </tr>\n",
       "  </thead>\n",
       "  <tbody>\n",
       "    <tr>\n",
       "      <th>75</th>\n",
       "      <td>104</td>\n",
       "      <td>7</td>\n",
       "      <td>16356</td>\n",
       "      <td>17.119772</td>\n",
       "      <td>[648955, 664452, 45728, 540714, 83946, 235287, 258070, 365885, 477466, 665660, 859634, 684021, 3...</td>\n",
       "    </tr>\n",
       "    <tr>\n",
       "      <th>145</th>\n",
       "      <td>104</td>\n",
       "      <td>7</td>\n",
       "      <td>16356</td>\n",
       "      <td>17.167597</td>\n",
       "      <td>[110559, 220698, 278308, 30092, 179035, 65458, 376441, 229689, 193588, 741755, 96001, 886072, 30...</td>\n",
       "    </tr>\n",
       "    <tr>\n",
       "      <th>205</th>\n",
       "      <td>104</td>\n",
       "      <td>7</td>\n",
       "      <td>16356</td>\n",
       "      <td>17.126817</td>\n",
       "      <td>[244617, 223010, 126804, 501738, 325979, 70460, 161472, 773211, 278118, 24722, 170904, 810226, 9...</td>\n",
       "    </tr>\n",
       "    <tr>\n",
       "      <th>15</th>\n",
       "      <td>105</td>\n",
       "      <td>7</td>\n",
       "      <td>16356</td>\n",
       "      <td>16.989500</td>\n",
       "      <td>[365928, 34900, 732487, 20661, 796920, 448784, 191095, 467060, 63865, 665948, 607014, 536820, 57...</td>\n",
       "    </tr>\n",
       "    <tr>\n",
       "      <th>36</th>\n",
       "      <td>105</td>\n",
       "      <td>7</td>\n",
       "      <td>16356</td>\n",
       "      <td>17.115179</td>\n",
       "      <td>[177702, 77647, 476467, 601756, 368722, 847771, 875048, 807525, 683969, 901857, 54495, 536338, 4...</td>\n",
       "    </tr>\n",
       "  </tbody>\n",
       "</table>\n",
       "</div>"
      ],
      "text/plain": [
       "     max  min  n_kmers   sd_count  \\\n",
       "75   104    7    16356  17.119772   \n",
       "145  104    7    16356  17.167597   \n",
       "205  104    7    16356  17.126817   \n",
       "15   105    7    16356  16.989500   \n",
       "36   105    7    16356  17.115179   \n",
       "\n",
       "                                                                                             seq_id_list  \n",
       "75   [648955, 664452, 45728, 540714, 83946, 235287, 258070, 365885, 477466, 665660, 859634, 684021, 3...  \n",
       "145  [110559, 220698, 278308, 30092, 179035, 65458, 376441, 229689, 193588, 741755, 96001, 886072, 30...  \n",
       "205  [244617, 223010, 126804, 501738, 325979, 70460, 161472, 773211, 278118, 24722, 170904, 810226, 9...  \n",
       "15   [365928, 34900, 732487, 20661, 796920, 448784, 191095, 467060, 63865, 665948, 607014, 536820, 57...  \n",
       "36   [177702, 77647, 476467, 601756, 368722, 847771, 875048, 807525, 683969, 901857, 54495, 536338, 4...  "
      ]
     },
     "metadata": {},
     "output_type": "display_data"
    }
   ],
   "source": [
    "df = kmer_per_seq_bundle (\n",
    "    seq_file = \"valid_seq_list.txt\",\n",
    "    nseq_per_bundle = 20000,\n",
    "    n_bundles = 500000,\n",
    "    start_offset = 6,\n",
    "    end_offset = 12,\n",
    "    kmer_len = 7,\n",
    "    min_score = 7,\n",
    "    threads = 20)\n",
    "\n",
    "display(df.head())"
   ]
  },
  {
   "cell_type": "code",
   "execution_count": 5,
   "metadata": {
    "ExecuteTime": {
     "end_time": "2018-01-18T07:56:10.642793Z",
     "start_time": "2018-01-18T07:55:52.939097Z"
    },
    "hidden": true
   },
   "outputs": [],
   "source": [
    "outfile = \"sampling_simulation_result.df\"\n",
    "df.to_pickle (outfile)"
   ]
  },
  {
   "cell_type": "code",
   "execution_count": 16,
   "metadata": {
    "ExecuteTime": {
     "end_time": "2018-01-19T09:59:20.065863Z",
     "start_time": "2018-01-19T09:59:18.049642Z"
    },
    "hidden": true,
    "scrolled": false
   },
   "outputs": [
    {
     "data": {
      "text/html": [
       "<div>\n",
       "<style scoped>\n",
       "    .dataframe tbody tr th:only-of-type {\n",
       "        vertical-align: middle;\n",
       "    }\n",
       "\n",
       "    .dataframe tbody tr th {\n",
       "        vertical-align: top;\n",
       "    }\n",
       "\n",
       "    .dataframe thead th {\n",
       "        text-align: right;\n",
       "    }\n",
       "</style>\n",
       "<table border=\"1\" class=\"dataframe\">\n",
       "  <thead>\n",
       "    <tr style=\"text-align: right;\">\n",
       "      <th></th>\n",
       "      <th>max</th>\n",
       "      <th>min</th>\n",
       "      <th>n_kmers</th>\n",
       "      <th>sd_count</th>\n",
       "      <th>seq_id_list</th>\n",
       "    </tr>\n",
       "  </thead>\n",
       "  <tbody>\n",
       "    <tr>\n",
       "      <th>99</th>\n",
       "      <td>110</td>\n",
       "      <td>7</td>\n",
       "      <td>16356</td>\n",
       "      <td>16.773276</td>\n",
       "      <td>[408286, 622451, 111827, 147290, 341557, 722653, 766347, 522605, 786332, 160366, 70287, 142936, ...</td>\n",
       "    </tr>\n",
       "    <tr>\n",
       "      <th>188</th>\n",
       "      <td>109</td>\n",
       "      <td>7</td>\n",
       "      <td>16356</td>\n",
       "      <td>16.807446</td>\n",
       "      <td>[718026, 269825, 308173, 776663, 829950, 889491, 800881, 537425, 211284, 11606, 653266, 139565, ...</td>\n",
       "    </tr>\n",
       "    <tr>\n",
       "      <th>245</th>\n",
       "      <td>109</td>\n",
       "      <td>7</td>\n",
       "      <td>16356</td>\n",
       "      <td>16.861818</td>\n",
       "      <td>[560780, 514929, 878982, 87951, 147413, 840069, 326120, 477424, 802765, 15301, 342105, 759327, 1...</td>\n",
       "    </tr>\n",
       "    <tr>\n",
       "      <th>186</th>\n",
       "      <td>112</td>\n",
       "      <td>7</td>\n",
       "      <td>16356</td>\n",
       "      <td>16.878930</td>\n",
       "      <td>[148180, 736453, 948261, 581005, 886398, 408762, 716998, 52662, 817345, 24983, 773164, 491839, 6...</td>\n",
       "    </tr>\n",
       "    <tr>\n",
       "      <th>68</th>\n",
       "      <td>105</td>\n",
       "      <td>7</td>\n",
       "      <td>16356</td>\n",
       "      <td>16.885800</td>\n",
       "      <td>[595209, 916377, 797623, 61023, 400747, 774254, 772454, 103506, 538333, 25739, 310440, 609021, 3...</td>\n",
       "    </tr>\n",
       "    <tr>\n",
       "      <th>1</th>\n",
       "      <td>111</td>\n",
       "      <td>7</td>\n",
       "      <td>16356</td>\n",
       "      <td>16.926612</td>\n",
       "      <td>[435609, 915343, 357608, 235618, 807393, 338800, 600048, 25754, 180988, 180433, 859329, 947623, ...</td>\n",
       "    </tr>\n",
       "    <tr>\n",
       "      <th>231</th>\n",
       "      <td>110</td>\n",
       "      <td>7</td>\n",
       "      <td>16356</td>\n",
       "      <td>16.931061</td>\n",
       "      <td>[158663, 472694, 734618, 671454, 371389, 867557, 685284, 875439, 535427, 483531, 284234, 630380,...</td>\n",
       "    </tr>\n",
       "    <tr>\n",
       "      <th>100</th>\n",
       "      <td>109</td>\n",
       "      <td>7</td>\n",
       "      <td>16356</td>\n",
       "      <td>16.939466</td>\n",
       "      <td>[663204, 864912, 702623, 179472, 735202, 206253, 334668, 90777, 318859, 131265, 143440, 306657, ...</td>\n",
       "    </tr>\n",
       "    <tr>\n",
       "      <th>224</th>\n",
       "      <td>112</td>\n",
       "      <td>7</td>\n",
       "      <td>16356</td>\n",
       "      <td>16.941360</td>\n",
       "      <td>[322472, 590229, 331531, 165536, 918374, 38205, 496218, 189126, 848097, 95236, 815025, 330594, 3...</td>\n",
       "    </tr>\n",
       "    <tr>\n",
       "      <th>216</th>\n",
       "      <td>106</td>\n",
       "      <td>7</td>\n",
       "      <td>16356</td>\n",
       "      <td>16.951628</td>\n",
       "      <td>[552971, 202022, 556604, 671912, 109009, 659484, 775246, 404058, 876806, 435306, 50798, 251084, ...</td>\n",
       "    </tr>\n",
       "    <tr>\n",
       "      <th>119</th>\n",
       "      <td>114</td>\n",
       "      <td>7</td>\n",
       "      <td>16356</td>\n",
       "      <td>16.957337</td>\n",
       "      <td>[870585, 834782, 918732, 369986, 417325, 244789, 332104, 411069, 287902, 562713, 205018, 219755,...</td>\n",
       "    </tr>\n",
       "    <tr>\n",
       "      <th>76</th>\n",
       "      <td>111</td>\n",
       "      <td>7</td>\n",
       "      <td>16356</td>\n",
       "      <td>16.966575</td>\n",
       "      <td>[511394, 192610, 94484, 862159, 159002, 822880, 922782, 720832, 602744, 100516, 181227, 752821, ...</td>\n",
       "    </tr>\n",
       "    <tr>\n",
       "      <th>116</th>\n",
       "      <td>107</td>\n",
       "      <td>7</td>\n",
       "      <td>16356</td>\n",
       "      <td>16.967523</td>\n",
       "      <td>[941397, 307682, 658706, 593774, 646084, 550574, 614994, 579338, 8587, 293399, 383590, 882489, 7...</td>\n",
       "    </tr>\n",
       "    <tr>\n",
       "      <th>234</th>\n",
       "      <td>109</td>\n",
       "      <td>7</td>\n",
       "      <td>16356</td>\n",
       "      <td>16.971954</td>\n",
       "      <td>[151637, 917938, 373220, 593749, 818689, 919884, 310856, 214864, 812126, 20622, 414281, 754111, ...</td>\n",
       "    </tr>\n",
       "    <tr>\n",
       "      <th>240</th>\n",
       "      <td>111</td>\n",
       "      <td>7</td>\n",
       "      <td>16356</td>\n",
       "      <td>16.974339</td>\n",
       "      <td>[932778, 571316, 243464, 923238, 837825, 262861, 848038, 635416, 175944, 555640, 944657, 776867,...</td>\n",
       "    </tr>\n",
       "    <tr>\n",
       "      <th>95</th>\n",
       "      <td>111</td>\n",
       "      <td>7</td>\n",
       "      <td>16356</td>\n",
       "      <td>16.981782</td>\n",
       "      <td>[198301, 472108, 593401, 758999, 84709, 735694, 64063, 652013, 807401, 666945, 581656, 632282, 7...</td>\n",
       "    </tr>\n",
       "    <tr>\n",
       "      <th>125</th>\n",
       "      <td>114</td>\n",
       "      <td>7</td>\n",
       "      <td>16356</td>\n",
       "      <td>16.984547</td>\n",
       "      <td>[372117, 414347, 593253, 702762, 912769, 510690, 417488, 803271, 114279, 169825, 761844, 419178,...</td>\n",
       "    </tr>\n",
       "    <tr>\n",
       "      <th>159</th>\n",
       "      <td>107</td>\n",
       "      <td>7</td>\n",
       "      <td>16356</td>\n",
       "      <td>16.988427</td>\n",
       "      <td>[592815, 816777, 923717, 498063, 836149, 947831, 827632, 665900, 708110, 674785, 614819, 123564,...</td>\n",
       "    </tr>\n",
       "    <tr>\n",
       "      <th>187</th>\n",
       "      <td>106</td>\n",
       "      <td>7</td>\n",
       "      <td>16356</td>\n",
       "      <td>16.988532</td>\n",
       "      <td>[73538, 323054, 898056, 350879, 356358, 815954, 369687, 250288, 797991, 35081, 363570, 501902, 8...</td>\n",
       "    </tr>\n",
       "    <tr>\n",
       "      <th>15</th>\n",
       "      <td>105</td>\n",
       "      <td>7</td>\n",
       "      <td>16356</td>\n",
       "      <td>16.989500</td>\n",
       "      <td>[365928, 34900, 732487, 20661, 796920, 448784, 191095, 467060, 63865, 665948, 607014, 536820, 57...</td>\n",
       "    </tr>\n",
       "  </tbody>\n",
       "</table>\n",
       "</div>"
      ],
      "text/plain": [
       "     max  min  n_kmers   sd_count  \\\n",
       "99   110    7    16356  16.773276   \n",
       "188  109    7    16356  16.807446   \n",
       "245  109    7    16356  16.861818   \n",
       "186  112    7    16356  16.878930   \n",
       "68   105    7    16356  16.885800   \n",
       "1    111    7    16356  16.926612   \n",
       "231  110    7    16356  16.931061   \n",
       "100  109    7    16356  16.939466   \n",
       "224  112    7    16356  16.941360   \n",
       "216  106    7    16356  16.951628   \n",
       "119  114    7    16356  16.957337   \n",
       "76   111    7    16356  16.966575   \n",
       "116  107    7    16356  16.967523   \n",
       "234  109    7    16356  16.971954   \n",
       "240  111    7    16356  16.974339   \n",
       "95   111    7    16356  16.981782   \n",
       "125  114    7    16356  16.984547   \n",
       "159  107    7    16356  16.988427   \n",
       "187  106    7    16356  16.988532   \n",
       "15   105    7    16356  16.989500   \n",
       "\n",
       "                                                                                             seq_id_list  \n",
       "99   [408286, 622451, 111827, 147290, 341557, 722653, 766347, 522605, 786332, 160366, 70287, 142936, ...  \n",
       "188  [718026, 269825, 308173, 776663, 829950, 889491, 800881, 537425, 211284, 11606, 653266, 139565, ...  \n",
       "245  [560780, 514929, 878982, 87951, 147413, 840069, 326120, 477424, 802765, 15301, 342105, 759327, 1...  \n",
       "186  [148180, 736453, 948261, 581005, 886398, 408762, 716998, 52662, 817345, 24983, 773164, 491839, 6...  \n",
       "68   [595209, 916377, 797623, 61023, 400747, 774254, 772454, 103506, 538333, 25739, 310440, 609021, 3...  \n",
       "1    [435609, 915343, 357608, 235618, 807393, 338800, 600048, 25754, 180988, 180433, 859329, 947623, ...  \n",
       "231  [158663, 472694, 734618, 671454, 371389, 867557, 685284, 875439, 535427, 483531, 284234, 630380,...  \n",
       "100  [663204, 864912, 702623, 179472, 735202, 206253, 334668, 90777, 318859, 131265, 143440, 306657, ...  \n",
       "224  [322472, 590229, 331531, 165536, 918374, 38205, 496218, 189126, 848097, 95236, 815025, 330594, 3...  \n",
       "216  [552971, 202022, 556604, 671912, 109009, 659484, 775246, 404058, 876806, 435306, 50798, 251084, ...  \n",
       "119  [870585, 834782, 918732, 369986, 417325, 244789, 332104, 411069, 287902, 562713, 205018, 219755,...  \n",
       "76   [511394, 192610, 94484, 862159, 159002, 822880, 922782, 720832, 602744, 100516, 181227, 752821, ...  \n",
       "116  [941397, 307682, 658706, 593774, 646084, 550574, 614994, 579338, 8587, 293399, 383590, 882489, 7...  \n",
       "234  [151637, 917938, 373220, 593749, 818689, 919884, 310856, 214864, 812126, 20622, 414281, 754111, ...  \n",
       "240  [932778, 571316, 243464, 923238, 837825, 262861, 848038, 635416, 175944, 555640, 944657, 776867,...  \n",
       "95   [198301, 472108, 593401, 758999, 84709, 735694, 64063, 652013, 807401, 666945, 581656, 632282, 7...  \n",
       "125  [372117, 414347, 593253, 702762, 912769, 510690, 417488, 803271, 114279, 169825, 761844, 419178,...  \n",
       "159  [592815, 816777, 923717, 498063, 836149, 947831, 827632, 665900, 708110, 674785, 614819, 123564,...  \n",
       "187  [73538, 323054, 898056, 350879, 356358, 815954, 369687, 250288, 797991, 35081, 363570, 501902, 8...  \n",
       "15   [365928, 34900, 732487, 20661, 796920, 448784, 191095, 467060, 63865, 665948, 607014, 536820, 57...  "
      ]
     },
     "execution_count": 16,
     "metadata": {},
     "output_type": "execute_result"
    }
   ],
   "source": [
    "df = pd.read_pickle(\"sampling_simulation_result.df\")\n",
    "df.sort_values([\"n_kmers\", \"min\", \"sd_count\"], inplace=True, ascending=[True, False, True])\n",
    "df.head(20)"
   ]
  },
  {
   "cell_type": "markdown",
   "metadata": {
    "hidden": true
   },
   "source": [
    "I will select the line 99 which as 7 minimun occurences of each 7 mers and the lower kmer count sd of all."
   ]
  },
  {
   "cell_type": "code",
   "execution_count": 18,
   "metadata": {
    "ExecuteTime": {
     "end_time": "2018-12-16T14:54:11.665534Z",
     "start_time": "2018-12-16T14:54:08.064773Z"
    },
    "hidden": true,
    "scrolled": false
   },
   "outputs": [
    {
     "data": {
      "text/html": [
       "<p style=\"line-height:15px;\"><b>Load sampling simulation result</b></p>"
      ],
      "text/plain": [
       "<IPython.core.display.HTML object>"
      ]
     },
     "metadata": {},
     "output_type": "display_data"
    },
    {
     "name": "stdout",
     "output_type": "stream",
     "text": [
      "max                                                                                                            110\n",
      "min                                                                                                              7\n",
      "n_kmers                                                                                                      16356\n",
      "sd_count                                                                                                   16.7733\n",
      "seq_id_list    [408286, 622451, 111827, 147290, 341557, 722653, 766347, 522605, 786332, 160366, 70287, 142936, ...\n",
      "Name: 99, dtype: object\n"
     ]
    },
    {
     "data": {
      "text/html": [
       "<p style=\"line-height:15px;\"><b>Inport all possible sequences</b></p>"
      ],
      "text/plain": [
       "<IPython.core.display.HTML object>"
      ]
     },
     "metadata": {},
     "output_type": "display_data"
    },
    {
     "data": {
      "text/html": [
       "<p style=\"line-height:15px;\"><b>Select wining sequences and write to output file</b></p>"
      ],
      "text/plain": [
       "<IPython.core.display.HTML object>"
      ]
     },
     "metadata": {},
     "output_type": "display_data"
    },
    {
     "name": "stdout",
     "output_type": "stream",
     "text": [
      ">ref_917505                                        \n",
      "CCCCCCTGCGCGTATAGAATGAGCCGCGATTCGTTTCCTATACCCCGCGA \n",
      ">ref_65540                                         \n",
      "CCCCCCAATGGATGAGTGGAGCGGACGGTACGGGTTCTCATACAATATGA \n",
      ">ref_98308                                         \n",
      "CCCCCCGACCCTATAGACACGTCCGGAAGCCTCTGATCCCTGGTCCAATT \n",
      ">ref_229381                                        \n",
      "CCCCCCATGCTGGAAACATGTGCCAATTAGAGACCGCTCTGTCCTTAGAA \n",
      ">ref_458756                                        \n",
      "CCCCCCTGCTTGCAGGCCTAACACTATTTACGTTCACGGCACTCGCAAAA \n",
      "\n"
     ]
    }
   ],
   "source": [
    "# Get the index of the sequence from the winer combination\n",
    "fn = \"sampling_simulation_result.df\"\n",
    "best_index = 99\n",
    "\n",
    "jprint(\"Load sampling simulation result\", bold=True)\n",
    "df = pd.read_pickle(fn)\n",
    "best_values = df.loc[best_index]\n",
    "print (best_values)\n",
    "seq_id_list = set(best_values[\"seq_id_list\"])\n",
    "\n",
    "jprint(\"Inport all possible sequences\", bold=True)\n",
    "fn = \"valid_seq_list.txt\"\n",
    "with open(fn) as fh:\n",
    "    seq_list = [seq.strip() for seq in fh]\n",
    "\n",
    "jprint(\"Select wining sequences and write to output file\", bold=True)\n",
    "fn_txt = \"DNA_test_sequence_panel_selection.txt\"\n",
    "fn_fa = \"DNA_test_sequence_panel_selection.fa\"\n",
    "with open (fn_txt, \"w\") as fp_txt, open (fn_fa, \"w\") as fp_fa:\n",
    "    for seq_id in seq_id_list:\n",
    "        seq = seq_list[seq_id]\n",
    "        seq = seq.replace(\"U\", \"T\")\n",
    "        \n",
    "        fp_txt.write(\"{}\\n\".format(seq))\n",
    "        fp_fa.write(\">ref_{}\\n{}\\n\".format(seq_id, seq))\n",
    "\n",
    "head(fn_fa)"
   ]
  }
 ],
 "metadata": {
  "celltoolbar": "Initialization Cell",
  "hide_input": false,
  "kernelspec": {
   "display_name": "Python [conda env:Python3.7]",
   "language": "python",
   "name": "conda-env-Python3.7-py"
  },
  "language_info": {
   "codemirror_mode": {
    "name": "ipython",
    "version": 3
   },
   "file_extension": ".py",
   "mimetype": "text/x-python",
   "name": "python",
   "nbconvert_exporter": "python",
   "pygments_lexer": "ipython3",
   "version": "3.7.7"
  }
 },
 "nbformat": 4,
 "nbformat_minor": 2
}
